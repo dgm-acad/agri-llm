{
  "nbformat": 4,
  "nbformat_minor": 0,
  "metadata": {
    "colab": {
      "provenance": [],
      "gpuType": "T4"
    },
    "kernelspec": {
      "name": "python3",
      "display_name": "Python 3"
    },
    "language_info": {
      "name": "python"
    },
    "accelerator": "GPU"
  },
  "cells": [
    {
      "cell_type": "markdown",
      "source": [
        "#### Start"
      ],
      "metadata": {
        "id": "3dLbZ6tcWVUn"
      }
    },
    {
      "cell_type": "code",
      "source": [
        "# mount\n",
        "from google.colab import drive\n",
        "drive.mount('/content/drive')"
      ],
      "metadata": {
        "id": "XwIh0yWWimv3",
        "colab": {
          "base_uri": "https://localhost:8080/"
        },
        "outputId": "3ce9d806-f705-4ff8-8d2d-c85fbbc7c09a"
      },
      "execution_count": 1,
      "outputs": [
        {
          "output_type": "stream",
          "name": "stdout",
          "text": [
            "Mounted at /content/drive\n"
          ]
        }
      ]
    },
    {
      "cell_type": "code",
      "source": [
        "import os\n",
        "# Load token from file\n",
        "with open('/content/drive/MyDrive/hf_token.txt', 'r') as file:\n",
        "    hf_token = file.read().strip()\n",
        "os.environ[\"HUGGINGFACEHUB_API_TOKEN\"] = hf_token"
      ],
      "metadata": {
        "id": "PAUpUj0swDyC"
      },
      "execution_count": 2,
      "outputs": []
    },
    {
      "cell_type": "code",
      "source": [
        "!pip install python-dotenv\n",
        "!pip install -q -U langchain huggingface_hub sentence_transformers faiss-gpu\n",
        "!pip install -U langchain-community\n",
        "!pip install transformers datasets torch scikit-learn numpy"
      ],
      "metadata": {
        "id": "Dd4ezcwNUrSR"
      },
      "execution_count": null,
      "outputs": []
    },
    {
      "cell_type": "code",
      "source": [
        "os.chdir('/content/drive/MyDrive/RAGAS')\n",
        "from config_setup import *\n",
        "from fn_ragas import *"
      ],
      "metadata": {
        "id": "FJ9dOPp8Rbvw"
      },
      "execution_count": 4,
      "outputs": []
    },
    {
      "cell_type": "markdown",
      "source": [
        "#### RAG Main"
      ],
      "metadata": {
        "id": "3OXP_Z4IgE7s"
      }
    },
    {
      "cell_type": "code",
      "source": [
        "# Setup directories\n",
        "setup_directory_structure()\n",
        "setup_environment()\n",
        "\n",
        "# Initialize RAG system\n",
        "rag = RAGSystem(\n",
        "    documents_path=str(Config.DATA_DIR),\n",
        ")\n",
        "\n",
        "# Process documents\n",
        "rag.load_documents()\n",
        "rag.create_vector_store()\n",
        "rag.setup_qa_chain()\n",
        "\n",
        "# Save vector store\n",
        "rag.save_vector_store(str(Config.VECTOR_STORE_DIR))\n",
        "\n",
        "print(\"RAG system setup complete!\")\n",
        "\n",
        "# Interactive query loop\n",
        "while True:\n",
        "    question = input(\"\\nEnter your question (or 'quit' to exit): \")\n",
        "    if question.lower() == 'quit':\n",
        "        break\n",
        "\n",
        "    result = rag.query(question)\n",
        "    print(\"\\nAnswer:\", result['answer'])\n",
        "    print(\"\\nSources used:\")\n",
        "    for i, doc in enumerate(result['source_documents'], 1):\n",
        "        print(f\"\\nSource {i}:\")\n",
        "        print(doc[:200] + \"...\" if len(doc) > 200 else doc)"
      ],
      "metadata": {
        "id": "CcITOBa8g-U1"
      },
      "execution_count": null,
      "outputs": []
    },
    {
      "cell_type": "markdown",
      "source": [
        "#### RAGAS Main"
      ],
      "metadata": {
        "id": "7ri4oaRNSlRR"
      }
    },
    {
      "cell_type": "code",
      "source": [
        "evaluation_questions = {\n",
        "    \"What are the primary uses of maize in industry?\":\n",
        "        \"Maize is used for food, animal feed, and as a raw material in various industries like starch and textile.\",\n",
        "    \"What is the optimal time for chickpea planting for  peninsular  India?\":\n",
        "        \"For  peninsular  India,  first  fort night of  October  is the  best  time  for  chickpea planting.\"\n",
        "}\n",
        "\n",
        "# Initialize your RAG system\n",
        "rag = RAGSystem(\n",
        "    documents_path=str(Config.DATA_DIR),\n",
        ")\n",
        "rag.load_documents()\n",
        "rag.create_vector_store()\n",
        "rag.setup_qa_chain()\n",
        "\n",
        "# Initialize evaluator\n",
        "evaluator = RAGEvaluator(rag_system=rag, evaluation_questions=evaluation_questions)\n",
        "\n",
        "# Run evaluation and print results\n",
        "eval_results = evaluator.evaluate()\n",
        "print(format_evaluation_results(eval_results))"
      ],
      "metadata": {
        "id": "CYMLq65mF_oq"
      },
      "execution_count": null,
      "outputs": []
    }
  ]
}